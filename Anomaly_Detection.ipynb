{
  "nbformat": 4,
  "nbformat_minor": 0,
  "metadata": {
    "colab": {
      "name": "Anomaly Detection.ipynb",
      "provenance": [],
      "collapsed_sections": []
    },
    "kernelspec": {
      "name": "python3",
      "display_name": "Python 3"
    },
    "accelerator": "GPU"
  },
  "cells": [
    {
      "cell_type": "markdown",
      "metadata": {
        "id": "PYMWn51Ebs7O",
        "colab_type": "text"
      },
      "source": [
        "Anomaly Detection:\n",
        "Detect anomalies in S&P 500 daily closing price\n",
        "\n",
        "will be using LSTM based AutoEncoders"
      ]
    },
    {
      "cell_type": "code",
      "metadata": {
        "id": "biUtNJjgbuU9",
        "colab_type": "code",
        "colab": {
          "base_uri": "https://localhost:8080/",
          "height": 72
        },
        "outputId": "5e4b1495-68b3-4249-cd5b-492c65610f0b"
      },
      "source": [
        "import warnings\n",
        "import numpy as np\n",
        "import pandas as pd\n",
        "import matplotlib.pyplot as plt\n",
        "import seaborn as sns\n",
        "from sklearn.preprocessing import StandardScaler\n",
        "\n",
        "warnings.filterwarnings(\"ignore\")\n",
        "%matplotlib inline"
      ],
      "execution_count": 1,
      "outputs": [
        {
          "output_type": "stream",
          "text": [
            "/usr/local/lib/python3.6/dist-packages/statsmodels/tools/_testing.py:19: FutureWarning: pandas.util.testing is deprecated. Use the functions in the public API at pandas.testing instead.\n",
            "  import pandas.util.testing as tm\n"
          ],
          "name": "stderr"
        }
      ]
    },
    {
      "cell_type": "code",
      "metadata": {
        "id": "8KeqjsQCb2X8",
        "colab_type": "code",
        "colab": {
          "base_uri": "https://localhost:8080/",
          "height": 124
        },
        "outputId": "3cfd9935-f86d-41d4-8c84-51fb5af0f946"
      },
      "source": [
        "#mounting drive to colab\n",
        "from google.colab import drive\n",
        "drive.mount('/content/drive')"
      ],
      "execution_count": 2,
      "outputs": [
        {
          "output_type": "stream",
          "text": [
            "Go to this URL in a browser: https://accounts.google.com/o/oauth2/auth?client_id=947318989803-6bn6qk8qdgf4n4g3pfee6491hc0brc4i.apps.googleusercontent.com&redirect_uri=urn%3aietf%3awg%3aoauth%3a2.0%3aoob&response_type=code&scope=email%20https%3a%2f%2fwww.googleapis.com%2fauth%2fdocs.test%20https%3a%2f%2fwww.googleapis.com%2fauth%2fdrive%20https%3a%2f%2fwww.googleapis.com%2fauth%2fdrive.photos.readonly%20https%3a%2f%2fwww.googleapis.com%2fauth%2fpeopleapi.readonly\n",
            "\n",
            "Enter your authorization code:\n",
            "··········\n",
            "Mounted at /content/drive\n"
          ],
          "name": "stdout"
        }
      ]
    },
    {
      "cell_type": "markdown",
      "metadata": {
        "id": "LuzXdlkugEoU",
        "colab_type": "text"
      },
      "source": [
        "Download data from https://www.kaggle.com/pdquant/sp500-daily-19862018"
      ]
    },
    {
      "cell_type": "code",
      "metadata": {
        "id": "_3QtLk2OuV6H",
        "colab_type": "code",
        "colab": {}
      },
      "source": [
        "spx = pd.read_csv(\"/content/drive/My Drive/google_colab/spx.csv\",parse_dates=['date'])"
      ],
      "execution_count": 0,
      "outputs": []
    },
    {
      "cell_type": "code",
      "metadata": {
        "id": "ok0vjWOxulBX",
        "colab_type": "code",
        "colab": {
          "base_uri": "https://localhost:8080/",
          "height": 121
        },
        "outputId": "4b09a700-ddfa-44b9-beb4-5192d20a5c4c"
      },
      "source": [
        "spx.head(), spx.shape"
      ],
      "execution_count": 26,
      "outputs": [
        {
          "output_type": "execute_result",
          "data": {
            "text/plain": [
              "(        date   close\n",
              " 0 1986-01-02  209.59\n",
              " 1 1986-01-03  210.88\n",
              " 2 1986-01-06  210.65\n",
              " 3 1986-01-07  213.80\n",
              " 4 1986-01-08  207.97, (8192, 2))"
            ]
          },
          "metadata": {
            "tags": []
          },
          "execution_count": 26
        }
      ]
    },
    {
      "cell_type": "markdown",
      "metadata": {
        "id": "JNZZvBgbfgcW",
        "colab_type": "text"
      },
      "source": [
        "Anomaly Detection:\n",
        "\n",
        "Train an Autoencoder on normal data. Take a new data point and try to reconstruct it using the Autoencoder If the error for the new data point is above some threshold, we label the example as an anomaly.\n",
        "\n",
        "Since our data is ime series so we will use LSTM."
      ]
    },
    {
      "cell_type": "code",
      "metadata": {
        "id": "QUVXPa6hf-Pf",
        "colab_type": "code",
        "colab": {
          "base_uri": "https://localhost:8080/",
          "height": 294
        },
        "outputId": "7d9df627-e8ab-4e2d-f53a-fff077c8959d"
      },
      "source": [
        "spx.describe() # can see min, max closing points "
      ],
      "execution_count": 27,
      "outputs": [
        {
          "output_type": "execute_result",
          "data": {
            "text/html": [
              "<div>\n",
              "<style scoped>\n",
              "    .dataframe tbody tr th:only-of-type {\n",
              "        vertical-align: middle;\n",
              "    }\n",
              "\n",
              "    .dataframe tbody tr th {\n",
              "        vertical-align: top;\n",
              "    }\n",
              "\n",
              "    .dataframe thead th {\n",
              "        text-align: right;\n",
              "    }\n",
              "</style>\n",
              "<table border=\"1\" class=\"dataframe\">\n",
              "  <thead>\n",
              "    <tr style=\"text-align: right;\">\n",
              "      <th></th>\n",
              "      <th>close</th>\n",
              "    </tr>\n",
              "  </thead>\n",
              "  <tbody>\n",
              "    <tr>\n",
              "      <th>count</th>\n",
              "      <td>8192.000000</td>\n",
              "    </tr>\n",
              "    <tr>\n",
              "      <th>mean</th>\n",
              "      <td>1070.897411</td>\n",
              "    </tr>\n",
              "    <tr>\n",
              "      <th>std</th>\n",
              "      <td>616.714534</td>\n",
              "    </tr>\n",
              "    <tr>\n",
              "      <th>min</th>\n",
              "      <td>203.490000</td>\n",
              "    </tr>\n",
              "    <tr>\n",
              "      <th>25%</th>\n",
              "      <td>458.632500</td>\n",
              "    </tr>\n",
              "    <tr>\n",
              "      <th>50%</th>\n",
              "      <td>1106.435000</td>\n",
              "    </tr>\n",
              "    <tr>\n",
              "      <th>75%</th>\n",
              "      <td>1388.132500</td>\n",
              "    </tr>\n",
              "    <tr>\n",
              "      <th>max</th>\n",
              "      <td>2872.870000</td>\n",
              "    </tr>\n",
              "  </tbody>\n",
              "</table>\n",
              "</div>"
            ],
            "text/plain": [
              "             close\n",
              "count  8192.000000\n",
              "mean   1070.897411\n",
              "std     616.714534\n",
              "min     203.490000\n",
              "25%     458.632500\n",
              "50%    1106.435000\n",
              "75%    1388.132500\n",
              "max    2872.870000"
            ]
          },
          "metadata": {
            "tags": []
          },
          "execution_count": 27
        }
      ]
    },
    {
      "cell_type": "code",
      "metadata": {
        "id": "gkxLvXa9gPuh",
        "colab_type": "code",
        "colab": {
          "base_uri": "https://localhost:8080/",
          "height": 297
        },
        "outputId": "bee262e7-98b3-482f-d080-d61e9e63306c"
      },
      "source": [
        "sns.boxplot(spx['close'])"
      ],
      "execution_count": 28,
      "outputs": [
        {
          "output_type": "execute_result",
          "data": {
            "text/plain": [
              "<matplotlib.axes._subplots.AxesSubplot at 0x7f53b775d828>"
            ]
          },
          "metadata": {
            "tags": []
          },
          "execution_count": 28
        },
        {
          "output_type": "display_data",
          "data": {
            "image/png": "[encoded data removed]",
            "text/plain": [
              "<Figure size 432x288 with 1 Axes>"
            ]
          },
          "metadata": {
            "tags": [],
            "needs_background": "light"
          }
        }
      ]
    },
    {
      "cell_type": "code",
      "metadata": {
        "id": "1OQLD6hlgft5",
        "colab_type": "code",
        "colab": {}
      },
      "source": [
        "#from above box plot we can see that:\n",
        "#1. 0 to 25% has close values between 0 to near 500 \n",
        "#2. 25 to 50% -> near 500 to near 1100\n",
        "#3. 50 to 75% -> near 1100 to near 1400 \n",
        "#4. rest 25% above 1400 to near 27500 \n",
        "#5/ some outliers has close value more than 27500"
      ],
      "execution_count": 0,
      "outputs": []
    },
    {
      "cell_type": "code",
      "metadata": {
        "id": "16pOuKJJhqQ_",
        "colab_type": "code",
        "colab": {
          "base_uri": "https://localhost:8080/",
          "height": 355
        },
        "outputId": "fdb79a11-a235-43f1-91bf-6212225c6b0b"
      },
      "source": [
        "plt.figure(figsize=(15,5))\n",
        "plt.plot(spx['date'], spx['close'])\n",
        "plt.xlabel(\"date\")\n",
        "plt.ylabel(\"close values\")\n",
        "plt.legend('close price')"
      ],
      "execution_count": 30,
      "outputs": [
        {
          "output_type": "execute_result",
          "data": {
            "text/plain": [
              "<matplotlib.legend.Legend at 0x7f53b775da20>"
            ]
          },
          "metadata": {
            "tags": []
          },
          "execution_count": 30
        },
        {
          "output_type": "display_data",
          "data": {
            "image/png": "[encoded data removed]",
            "text/plain": [
              "<Figure size 1080x360 with 1 Axes>"
            ]
          },
          "metadata": {
            "tags": [],
            "needs_background": "light"
          }
        }
      ]
    },
    {
      "cell_type": "code",
      "metadata": {
        "id": "TFkgKJP4mv_J",
        "colab_type": "code",
        "colab": {
          "base_uri": "https://localhost:8080/",
          "height": 35
        },
        "outputId": "a986020f-4ae5-4578-db23-9e1fa4fbae62"
      },
      "source": [
        "df = spx['close']\n",
        "train_size = int(len(df) * 0.80)\n",
        "test_size = len(df) - train_size\n",
        "train_close, test_close = df.iloc[0:train_size], df.iloc[train_size:len(df)]\n",
        "train = train_close.values.reshape(-1,1)\n",
        "test = test_close.values.reshape(-1,1)\n",
        "print(train.shape, test.shape)"
      ],
      "execution_count": 31,
      "outputs": [
        {
          "output_type": "stream",
          "text": [
            "(6553, 1) (1639, 1)\n"
          ],
          "name": "stdout"
        }
      ]
    },
    {
      "cell_type": "code",
      "metadata": {
        "id": "Dmg-aoDUiN8u",
        "colab_type": "code",
        "colab": {
          "base_uri": "https://localhost:8080/",
          "height": 35
        },
        "outputId": "0c8de917-0e5b-4788-d617-be06446e8c3a"
      },
      "source": [
        "scaler = StandardScaler()\n",
        "scaler = scaler.fit(train)\n",
        "train = scaler.transform(train)\n",
        "test = scaler.transform(test)\n",
        "type(train)"
      ],
      "execution_count": 32,
      "outputs": [
        {
          "output_type": "execute_result",
          "data": {
            "text/plain": [
              "numpy.ndarray"
            ]
          },
          "metadata": {
            "tags": []
          },
          "execution_count": 32
        }
      ]
    },
    {
      "cell_type": "code",
      "metadata": {
        "id": "yey-0lPhnAi5",
        "colab_type": "code",
        "colab": {}
      },
      "source": [
        "#input to lstm [samples, time_steps, n_features]\n",
        "#lets create time stamp of 30\n"
      ],
      "execution_count": 0,
      "outputs": []
    },
    {
      "cell_type": "code",
      "metadata": {
        "id": "JZSHCvFUqESw",
        "colab_type": "code",
        "colab": {}
      },
      "source": [
        "TIME_STEPS = 30"
      ],
      "execution_count": 0,
      "outputs": []
    },
    {
      "cell_type": "code",
      "metadata": {
        "id": "XmGJIt7-tx1z",
        "colab_type": "code",
        "colab": {}
      },
      "source": [
        "def create_dataset(X, y, time_steps=1):\n",
        "    Xs, ys = [], []\n",
        "    for i in range(len(X) - time_steps):\n",
        "        Xs.append(X.iloc[i:(i + time_steps)].values)\n",
        "        ys.append(y.iloc[i + time_steps])\n",
        "    return np.array(Xs), np.array(ys)"
      ],
      "execution_count": 0,
      "outputs": []
    },
    {
      "cell_type": "code",
      "metadata": {
        "id": "lI42oGqmuf4J",
        "colab_type": "code",
        "colab": {
          "base_uri": "https://localhost:8080/",
          "height": 35
        },
        "outputId": "03d9ce61-ef90-44b9-fcd3-0ba87e5df388"
      },
      "source": [
        "X_train, y_train = create_dataset(\n",
        "  pd.DataFrame(train),\n",
        "  pd.DataFrame(train),\n",
        "  TIME_STEPS\n",
        ")\n",
        "\n",
        "X_test, y_test = create_dataset(\n",
        "  pd.DataFrame(test),\n",
        "  pd.DataFrame(test),\n",
        "  TIME_STEPS\n",
        ")\n",
        "\n",
        "print(X_train.shape, y_train.shape, X_test.shape,y_test.shape )"
      ],
      "execution_count": 35,
      "outputs": [
        {
          "output_type": "stream",
          "text": [
            "(6523, 30, 1) (6523, 1) (1609, 30, 1) (1609, 1)\n"
          ],
          "name": "stdout"
        }
      ]
    },
    {
      "cell_type": "markdown",
      "metadata": {
        "id": "EgtCx-Gm6QCe",
        "colab_type": "text"
      },
      "source": [
        "LSTM AutoEncoder "
      ]
    },
    {
      "cell_type": "code",
      "metadata": {
        "id": "K7WCkVCi0jPS",
        "colab_type": "code",
        "colab": {}
      },
      "source": [
        "import tensorflow as tf \n",
        "from tensorflow.keras.layers import Dense, Input, Flatten, Dropout,concatenate\n",
        "from tensorflow.keras.layers import Conv1D,Conv2D, MaxPooling1D, Embedding,TimeDistributed,RepeatVector\n",
        "from tensorflow.keras.layers import LSTM, Bidirectional, GRU\n",
        "from tensorflow.keras.models import Model,Sequential\n",
        "from tensorflow.keras.callbacks import EarlyStopping,LearningRateScheduler\n",
        "from tensorflow.keras.regularizers import l2"
      ],
      "execution_count": 0,
      "outputs": []
    },
    {
      "cell_type": "code",
      "metadata": {
        "id": "_eNDaS4RF2Uh",
        "colab_type": "code",
        "colab": {}
      },
      "source": [
        "def lstm_autoencoder():\n",
        "  model = Sequential()\n",
        "  model.add(LSTM(64,return_sequences=False,input_shape=(TIME_STEPS,1)))\n",
        "  model.add(Dropout(rate=0.2))\n",
        "  model.add(RepeatVector(TIME_STEPS))\n",
        "  model.add(LSTM(64,return_sequences=True))\n",
        "  #model.add(Dropout(rate=0.2))\n",
        "  model.add(TimeDistributed(Dense(1)))\n",
        "  model.compile(optimizer= 'adam', loss='mae')\n",
        "  print (model.summary())\n",
        "  return model\n"
      ],
      "execution_count": 0,
      "outputs": []
    },
    {
      "cell_type": "code",
      "metadata": {
        "id": "n2NMl567Gd7J",
        "colab_type": "code",
        "colab": {
          "base_uri": "https://localhost:8080/",
          "height": 1000
        },
        "outputId": "1c101f4e-409e-42f7-ab01-d386a3f3d10e"
      },
      "source": [
        "callback = EarlyStopping(monitor='val_loss', patience=15,restore_best_weights=True,mode=\"min\")\n",
        "model = lstm_autoencoder()\n",
        "history = model.fit(\n",
        "    X_train, y_train,\n",
        "    epochs=50,\n",
        "    batch_size=32,\n",
        "    validation_split=0.1,\n",
        "    callbacks=[callback],\n",
        "    shuffle=False\n",
        ")"
      ],
      "execution_count": 69,
      "outputs": [
        {
          "output_type": "stream",
          "text": [
            "Model: \"sequential_12\"\n",
            "_________________________________________________________________\n",
            "Layer (type)                 Output Shape              Param #   \n",
            "=================================================================\n",
            "lstm_24 (LSTM)               (None, 64)                16896     \n",
            "_________________________________________________________________\n",
            "dropout_22 (Dropout)         (None, 64)                0         \n",
            "_________________________________________________________________\n",
            "repeat_vector_12 (RepeatVect (None, 30, 64)            0         \n",
            "_________________________________________________________________\n",
            "lstm_25 (LSTM)               (None, 30, 64)            33024     \n",
            "_________________________________________________________________\n",
            "time_distributed_10 (TimeDis (None, 30, 1)             65        \n",
            "=================================================================\n",
            "Total params: 49,985\n",
            "Trainable params: 49,985\n",
            "Non-trainable params: 0\n",
            "_________________________________________________________________\n",
            "None\n",
            "Epoch 1/50\n",
            "184/184 [==============================] - 2s 9ms/step - loss: 0.1704 - val_loss: 0.2195\n",
            "Epoch 2/50\n",
            "184/184 [==============================] - 1s 6ms/step - loss: 0.1658 - val_loss: 0.1474\n",
            "Epoch 3/50\n",
            "184/184 [==============================] - 1s 6ms/step - loss: 0.1659 - val_loss: 0.1998\n",
            "Epoch 4/50\n",
            "184/184 [==============================] - 1s 6ms/step - loss: 0.1544 - val_loss: 0.3990\n",
            "Epoch 5/50\n",
            "184/184 [==============================] - 1s 6ms/step - loss: 0.1427 - val_loss: 0.3184\n",
            "Epoch 6/50\n",
            "184/184 [==============================] - 1s 6ms/step - loss: 0.1466 - val_loss: 0.2421\n",
            "Epoch 7/50\n",
            "184/184 [==============================] - 1s 6ms/step - loss: 0.1418 - val_loss: 0.1908\n",
            "Epoch 8/50\n",
            "184/184 [==============================] - 1s 6ms/step - loss: 0.1517 - val_loss: 0.1904\n",
            "Epoch 9/50\n",
            "184/184 [==============================] - 1s 6ms/step - loss: 0.1386 - val_loss: 0.1678\n",
            "Epoch 10/50\n",
            "184/184 [==============================] - 1s 6ms/step - loss: 0.1337 - val_loss: 0.1708\n",
            "Epoch 11/50\n",
            "184/184 [==============================] - 1s 6ms/step - loss: 0.1236 - val_loss: 0.1295\n",
            "Epoch 12/50\n",
            "184/184 [==============================] - 1s 6ms/step - loss: 0.1242 - val_loss: 0.1336\n",
            "Epoch 13/50\n",
            "184/184 [==============================] - 1s 6ms/step - loss: 0.1155 - val_loss: 0.1359\n",
            "Epoch 14/50\n",
            "184/184 [==============================] - 1s 6ms/step - loss: 0.1129 - val_loss: 0.0999\n",
            "Epoch 15/50\n",
            "184/184 [==============================] - 1s 6ms/step - loss: 0.1097 - val_loss: 0.1087\n",
            "Epoch 16/50\n",
            "184/184 [==============================] - 1s 6ms/step - loss: 0.1086 - val_loss: 0.0926\n",
            "Epoch 17/50\n",
            "184/184 [==============================] - 1s 6ms/step - loss: 0.1072 - val_loss: 0.1029\n",
            "Epoch 18/50\n",
            "184/184 [==============================] - 1s 6ms/step - loss: 0.1008 - val_loss: 0.0968\n",
            "Epoch 19/50\n",
            "184/184 [==============================] - 1s 6ms/step - loss: 0.1000 - val_loss: 0.0900\n",
            "Epoch 20/50\n",
            "184/184 [==============================] - 1s 6ms/step - loss: 0.1036 - val_loss: 0.0929\n",
            "Epoch 21/50\n",
            "184/184 [==============================] - 1s 6ms/step - loss: 0.1002 - val_loss: 0.0979\n",
            "Epoch 22/50\n",
            "184/184 [==============================] - 1s 6ms/step - loss: 0.0977 - val_loss: 0.1122\n",
            "Epoch 23/50\n",
            "184/184 [==============================] - 1s 6ms/step - loss: 0.0953 - val_loss: 0.1001\n",
            "Epoch 24/50\n",
            "184/184 [==============================] - 1s 6ms/step - loss: 0.0970 - val_loss: 0.1016\n",
            "Epoch 25/50\n",
            "184/184 [==============================] - 1s 6ms/step - loss: 0.0944 - val_loss: 0.0806\n",
            "Epoch 26/50\n",
            "184/184 [==============================] - 1s 6ms/step - loss: 0.0952 - val_loss: 0.0850\n",
            "Epoch 27/50\n",
            "184/184 [==============================] - 1s 6ms/step - loss: 0.0936 - val_loss: 0.1047\n",
            "Epoch 28/50\n",
            "184/184 [==============================] - 1s 6ms/step - loss: 0.0920 - val_loss: 0.0921\n",
            "Epoch 29/50\n",
            "184/184 [==============================] - 1s 6ms/step - loss: 0.0919 - val_loss: 0.0852\n",
            "Epoch 30/50\n",
            "184/184 [==============================] - 1s 6ms/step - loss: 0.0911 - val_loss: 0.0917\n",
            "Epoch 31/50\n",
            "184/184 [==============================] - 1s 6ms/step - loss: 0.0927 - val_loss: 0.0949\n",
            "Epoch 32/50\n",
            "184/184 [==============================] - 1s 6ms/step - loss: 0.0898 - val_loss: 0.1021\n",
            "Epoch 33/50\n",
            "184/184 [==============================] - 1s 6ms/step - loss: 0.0886 - val_loss: 0.0854\n",
            "Epoch 34/50\n",
            "184/184 [==============================] - 1s 6ms/step - loss: 0.0906 - val_loss: 0.0795\n",
            "Epoch 35/50\n",
            "184/184 [==============================] - 1s 6ms/step - loss: 0.0895 - val_loss: 0.1021\n",
            "Epoch 36/50\n",
            "184/184 [==============================] - 1s 6ms/step - loss: 0.0885 - val_loss: 0.0772\n",
            "Epoch 37/50\n",
            "184/184 [==============================] - 1s 6ms/step - loss: 0.0898 - val_loss: 0.0891\n",
            "Epoch 38/50\n",
            "184/184 [==============================] - 1s 6ms/step - loss: 0.0872 - val_loss: 0.0999\n",
            "Epoch 39/50\n",
            "184/184 [==============================] - 1s 6ms/step - loss: 0.0880 - val_loss: 0.0933\n",
            "Epoch 40/50\n",
            "184/184 [==============================] - 1s 6ms/step - loss: 0.0884 - val_loss: 0.1039\n",
            "Epoch 41/50\n",
            "184/184 [==============================] - 1s 6ms/step - loss: 0.0863 - val_loss: 0.0923\n",
            "Epoch 42/50\n",
            "184/184 [==============================] - 1s 6ms/step - loss: 0.0872 - val_loss: 0.0898\n",
            "Epoch 43/50\n",
            "184/184 [==============================] - 1s 6ms/step - loss: 0.0854 - val_loss: 0.0798\n",
            "Epoch 44/50\n",
            "184/184 [==============================] - 1s 6ms/step - loss: 0.0856 - val_loss: 0.0929\n",
            "Epoch 45/50\n",
            "184/184 [==============================] - 1s 6ms/step - loss: 0.0860 - val_loss: 0.1032\n",
            "Epoch 46/50\n",
            "184/184 [==============================] - 1s 6ms/step - loss: 0.0856 - val_loss: 0.0873\n",
            "Epoch 47/50\n",
            "184/184 [==============================] - 1s 6ms/step - loss: 0.0860 - val_loss: 0.0870\n",
            "Epoch 48/50\n",
            "184/184 [==============================] - 1s 6ms/step - loss: 0.0843 - val_loss: 0.0782\n",
            "Epoch 49/50\n",
            "184/184 [==============================] - 1s 6ms/step - loss: 0.0843 - val_loss: 0.0725\n",
            "Epoch 50/50\n",
            "184/184 [==============================] - 1s 6ms/step - loss: 0.0883 - val_loss: 0.0771\n"
          ],
          "name": "stdout"
        }
      ]
    },
    {
      "cell_type": "code",
      "metadata": {
        "id": "BDXIsYJaGemt",
        "colab_type": "code",
        "colab": {
          "base_uri": "https://localhost:8080/",
          "height": 265
        },
        "outputId": "d81b1d07-e140-4fdb-f097-3d466bd79ff3"
      },
      "source": [
        "plt.plot(history.history['loss'], label='train')\n",
        "plt.plot(history.history['val_loss'], label='valid')\n",
        "plt.legend();"
      ],
      "execution_count": 70,
      "outputs": [
        {
          "output_type": "display_data",
          "data": {
            "image/png": "[encoded data removed]",
            "text/plain": [
              "<Figure size 432x288 with 1 Axes>"
            ]
          },
          "metadata": {
            "tags": [],
            "needs_background": "light"
          }
        }
      ]
    },
    {
      "cell_type": "code",
      "metadata": {
        "id": "Arr234XrGeGS",
        "colab_type": "code",
        "colab": {
          "base_uri": "https://localhost:8080/",
          "height": 35
        },
        "outputId": "00a2c8a0-4e4b-4b36-bde3-41bbacb5d6fd"
      },
      "source": [
        "X_train_pred = model.predict(X_train)\n",
        "train_mae_loss = np.mean(np.abs(X_train_pred - X_train), axis=1)\n",
        "\n",
        "X_test_pred = model.predict(X_test)\n",
        "test_mae_loss = np.mean(np.abs(X_test_pred - X_test), axis=1)\n",
        "\n",
        "train_mae_loss.max() , test_mae_loss.max(), test_mae_loss.mean()"
      ],
      "execution_count": 76,
      "outputs": [
        {
          "output_type": "execute_result",
          "data": {
            "text/plain": [
              "(0.6776178988273279, 1.945017611916703, 0.6827388525868479)"
            ]
          },
          "metadata": {
            "tags": []
          },
          "execution_count": 76
        }
      ]
    },
    {
      "cell_type": "code",
      "metadata": {
        "id": "dHP-N4NrGeL6",
        "colab_type": "code",
        "colab": {
          "base_uri": "https://localhost:8080/",
          "height": 202
        },
        "outputId": "965b8aaa-44a3-4b5e-a991-f77ae863e840"
      },
      "source": [
        "# error > threshold is anomaly \n",
        "THRESHOLD = 0.9\n",
        "test_score_df = pd.DataFrame(index=pd.DataFrame(test)[TIME_STEPS:].index)\n",
        "test_score_df['loss'] = test_mae_loss\n",
        "test_score_df['threshold'] = THRESHOLD\n",
        "test_score_df['anomaly'] = test_score_df.loss > test_score_df.threshold\n",
        "test_score_df['close'] = test[TIME_STEPS:]\n",
        "test_score_df.head()"
      ],
      "execution_count": 77,
      "outputs": [
        {
          "output_type": "execute_result",
          "data": {
            "text/html": [
              "<div>\n",
              "<style scoped>\n",
              "    .dataframe tbody tr th:only-of-type {\n",
              "        vertical-align: middle;\n",
              "    }\n",
              "\n",
              "    .dataframe tbody tr th {\n",
              "        vertical-align: top;\n",
              "    }\n",
              "\n",
              "    .dataframe thead th {\n",
              "        text-align: right;\n",
              "    }\n",
              "</style>\n",
              "<table border=\"1\" class=\"dataframe\">\n",
              "  <thead>\n",
              "    <tr style=\"text-align: right;\">\n",
              "      <th></th>\n",
              "      <th>loss</th>\n",
              "      <th>threshold</th>\n",
              "      <th>anomaly</th>\n",
              "      <th>close</th>\n",
              "    </tr>\n",
              "  </thead>\n",
              "  <tbody>\n",
              "    <tr>\n",
              "      <th>30</th>\n",
              "      <td>0.145075</td>\n",
              "      <td>0.9</td>\n",
              "      <td>False</td>\n",
              "      <td>1.216856</td>\n",
              "    </tr>\n",
              "    <tr>\n",
              "      <th>31</th>\n",
              "      <td>0.143255</td>\n",
              "      <td>0.9</td>\n",
              "      <td>False</td>\n",
              "      <td>1.221625</td>\n",
              "    </tr>\n",
              "    <tr>\n",
              "      <th>32</th>\n",
              "      <td>0.139241</td>\n",
              "      <td>0.9</td>\n",
              "      <td>False</td>\n",
              "      <td>1.199313</td>\n",
              "    </tr>\n",
              "    <tr>\n",
              "      <th>33</th>\n",
              "      <td>0.108037</td>\n",
              "      <td>0.9</td>\n",
              "      <td>False</td>\n",
              "      <td>1.221194</td>\n",
              "    </tr>\n",
              "    <tr>\n",
              "      <th>34</th>\n",
              "      <td>0.124066</td>\n",
              "      <td>0.9</td>\n",
              "      <td>False</td>\n",
              "      <td>1.218150</td>\n",
              "    </tr>\n",
              "  </tbody>\n",
              "</table>\n",
              "</div>"
            ],
            "text/plain": [
              "        loss  threshold  anomaly     close\n",
              "30  0.145075        0.9    False  1.216856\n",
              "31  0.143255        0.9    False  1.221625\n",
              "32  0.139241        0.9    False  1.199313\n",
              "33  0.108037        0.9    False  1.221194\n",
              "34  0.124066        0.9    False  1.218150"
            ]
          },
          "metadata": {
            "tags": []
          },
          "execution_count": 77
        }
      ]
    },
    {
      "cell_type": "markdown",
      "metadata": {
        "id": "yP3zxLrDQNmw",
        "colab_type": "text"
      },
      "source": [
        "Let's create nested LSTM autoencoder"
      ]
    },
    {
      "cell_type": "code",
      "metadata": {
        "id": "h_8P4M1X7GeE",
        "colab_type": "code",
        "colab": {}
      },
      "source": [
        "def autoencoder():\n",
        "  model = Sequential()\n",
        "  model.add(LSTM(128,return_sequences=True,input_shape=(TIME_STEPS,1)))\n",
        "  model.add(Dropout(rate=0.3))\n",
        "  model.add(LSTM(64))\n",
        "  #model.add(Dropout(rate=0.3))\n",
        "  model.add(RepeatVector(TIME_STEPS))\n",
        "  model.add(LSTM(64,return_sequences=True))\n",
        "  #model.add(Dropout(rate=0.3))\n",
        "  model.add(LSTM(128,return_sequences=True))\n",
        "  model.add(Dropout(rate=0.3))\n",
        "  model.add(TimeDistributed(Dense(1)))\n",
        "  model.compile(optimizer= 'adam', loss='mae')\n",
        "  print (model.summary())\n",
        "  return model"
      ],
      "execution_count": 0,
      "outputs": []
    },
    {
      "cell_type": "code",
      "metadata": {
        "id": "oaCsYZadFkIM",
        "colab_type": "code",
        "colab": {}
      },
      "source": [
        "def scheduler(epoch):\n",
        "  if epoch < 20:\n",
        "    return 0.001\n",
        "  else:\n",
        "    return 0.001 * tf.math.exp(0.1 * (10 - epoch))\n",
        "lr_scheduler = LearningRateScheduler(scheduler) \n",
        "# This callback will stop the training when there is no improvement in\n",
        "# the validation loss for 50 consecutive epochs and will save best weights\n",
        "callback = EarlyStopping(monitor='val_loss', patience=10,restore_best_weights=True,mode=\"min\") "
      ],
      "execution_count": 0,
      "outputs": []
    },
    {
      "cell_type": "code",
      "metadata": {
        "id": "VrMNzjBjDwyd",
        "colab_type": "code",
        "colab": {
          "base_uri": "https://localhost:8080/",
          "height": 1000
        },
        "outputId": "80b167c7-c949-440c-a0b8-4801f7d31546"
      },
      "source": [
        "model = autoencoder()\n",
        "history = model.fit(\n",
        "    X_train, y_train,\n",
        "    epochs=40,\n",
        "    batch_size=32,\n",
        "    validation_split=0.1,\n",
        "    callbacks=[callback,lr_scheduler],\n",
        "    shuffle=False\n",
        ")"
      ],
      "execution_count": 90,
      "outputs": [
        {
          "output_type": "stream",
          "text": [
            "Model: \"sequential_15\"\n",
            "_________________________________________________________________\n",
            "Layer (type)                 Output Shape              Param #   \n",
            "=================================================================\n",
            "lstm_34 (LSTM)               (None, 30, 128)           66560     \n",
            "_________________________________________________________________\n",
            "dropout_29 (Dropout)         (None, 30, 128)           0         \n",
            "_________________________________________________________________\n",
            "lstm_35 (LSTM)               (None, 64)                49408     \n",
            "_________________________________________________________________\n",
            "repeat_vector_15 (RepeatVect (None, 30, 64)            0         \n",
            "_________________________________________________________________\n",
            "lstm_36 (LSTM)               (None, 30, 64)            33024     \n",
            "_________________________________________________________________\n",
            "lstm_37 (LSTM)               (None, 30, 128)           98816     \n",
            "_________________________________________________________________\n",
            "dropout_30 (Dropout)         (None, 30, 128)           0         \n",
            "_________________________________________________________________\n",
            "time_distributed_13 (TimeDis (None, 30, 1)             129       \n",
            "=================================================================\n",
            "Total params: 247,937\n",
            "Trainable params: 247,937\n",
            "Non-trainable params: 0\n",
            "_________________________________________________________________\n",
            "None\n",
            "Epoch 1/40\n",
            "184/184 [==============================] - 3s 16ms/step - loss: 0.4325 - val_loss: 0.2273 - lr: 1.0000e-04\n",
            "Epoch 2/40\n",
            "184/184 [==============================] - 2s 10ms/step - loss: 0.2256 - val_loss: 0.2930 - lr: 1.0000e-04\n",
            "Epoch 3/40\n",
            "184/184 [==============================] - 2s 10ms/step - loss: 0.2040 - val_loss: 0.2917 - lr: 1.0000e-04\n",
            "Epoch 4/40\n",
            "184/184 [==============================] - 2s 10ms/step - loss: 0.1880 - val_loss: 0.2697 - lr: 1.0000e-04\n",
            "Epoch 5/40\n",
            "184/184 [==============================] - 2s 10ms/step - loss: 0.1867 - val_loss: 0.2244 - lr: 1.0000e-04\n",
            "Epoch 6/40\n",
            "184/184 [==============================] - 2s 10ms/step - loss: 0.1935 - val_loss: 0.1838 - lr: 1.0000e-04\n",
            "Epoch 7/40\n",
            "184/184 [==============================] - 2s 10ms/step - loss: 0.1925 - val_loss: 0.1599 - lr: 1.0000e-04\n",
            "Epoch 8/40\n",
            "184/184 [==============================] - 2s 10ms/step - loss: 0.1833 - val_loss: 0.1436 - lr: 1.0000e-04\n",
            "Epoch 9/40\n",
            "184/184 [==============================] - 2s 10ms/step - loss: 0.1734 - val_loss: 0.1333 - lr: 1.0000e-04\n",
            "Epoch 10/40\n",
            "184/184 [==============================] - 2s 10ms/step - loss: 0.1644 - val_loss: 0.1278 - lr: 1.0000e-04\n",
            "Epoch 11/40\n",
            "184/184 [==============================] - 2s 10ms/step - loss: 0.1564 - val_loss: 0.1233 - lr: 1.0000e-04\n",
            "Epoch 12/40\n",
            "184/184 [==============================] - 2s 10ms/step - loss: 0.1493 - val_loss: 0.1121 - lr: 1.0000e-04\n",
            "Epoch 13/40\n",
            "184/184 [==============================] - 2s 10ms/step - loss: 0.1445 - val_loss: 0.1088 - lr: 1.0000e-04\n",
            "Epoch 14/40\n",
            "184/184 [==============================] - 2s 10ms/step - loss: 0.1396 - val_loss: 0.1107 - lr: 1.0000e-04\n",
            "Epoch 15/40\n",
            "184/184 [==============================] - 2s 10ms/step - loss: 0.1337 - val_loss: 0.1044 - lr: 1.0000e-04\n",
            "Epoch 16/40\n",
            "184/184 [==============================] - 2s 10ms/step - loss: 0.1293 - val_loss: 0.1035 - lr: 1.0000e-04\n",
            "Epoch 17/40\n",
            "184/184 [==============================] - 2s 10ms/step - loss: 0.1259 - val_loss: 0.0977 - lr: 1.0000e-04\n",
            "Epoch 18/40\n",
            "184/184 [==============================] - 2s 10ms/step - loss: 0.1217 - val_loss: 0.0961 - lr: 1.0000e-04\n",
            "Epoch 19/40\n",
            "184/184 [==============================] - 2s 10ms/step - loss: 0.1185 - val_loss: 0.0950 - lr: 1.0000e-04\n",
            "Epoch 20/40\n",
            "184/184 [==============================] - 2s 10ms/step - loss: 0.1148 - val_loss: 0.0893 - lr: 1.0000e-04\n",
            "Epoch 21/40\n",
            "184/184 [==============================] - 2s 10ms/step - loss: 0.1189 - val_loss: 0.1226 - lr: 3.6788e-05\n",
            "Epoch 22/40\n",
            "184/184 [==============================] - 2s 10ms/step - loss: 0.1017 - val_loss: 0.0899 - lr: 3.3287e-05\n",
            "Epoch 23/40\n",
            "184/184 [==============================] - 2s 10ms/step - loss: 0.1024 - val_loss: 0.0742 - lr: 3.0119e-05\n",
            "Epoch 24/40\n",
            "184/184 [==============================] - 2s 10ms/step - loss: 0.0991 - val_loss: 0.0690 - lr: 2.7253e-05\n",
            "Epoch 25/40\n",
            "184/184 [==============================] - 2s 10ms/step - loss: 0.0944 - val_loss: 0.0652 - lr: 2.4660e-05\n",
            "Epoch 26/40\n",
            "184/184 [==============================] - 2s 10ms/step - loss: 0.0900 - val_loss: 0.0648 - lr: 2.2313e-05\n",
            "Epoch 27/40\n",
            "184/184 [==============================] - 2s 10ms/step - loss: 0.0858 - val_loss: 0.0626 - lr: 2.0190e-05\n",
            "Epoch 28/40\n",
            "184/184 [==============================] - 2s 10ms/step - loss: 0.0828 - val_loss: 0.0620 - lr: 1.8268e-05\n",
            "Epoch 29/40\n",
            "184/184 [==============================] - 2s 10ms/step - loss: 0.0807 - val_loss: 0.0603 - lr: 1.6530e-05\n",
            "Epoch 30/40\n",
            "184/184 [==============================] - 2s 10ms/step - loss: 0.0787 - val_loss: 0.0591 - lr: 1.4957e-05\n",
            "Epoch 31/40\n",
            "184/184 [==============================] - 2s 10ms/step - loss: 0.0779 - val_loss: 0.0594 - lr: 1.3534e-05\n",
            "Epoch 32/40\n",
            "184/184 [==============================] - 2s 10ms/step - loss: 0.0760 - val_loss: 0.0583 - lr: 1.2246e-05\n",
            "Epoch 33/40\n",
            "184/184 [==============================] - 2s 10ms/step - loss: 0.0755 - val_loss: 0.0580 - lr: 1.1080e-05\n",
            "Epoch 34/40\n",
            "184/184 [==============================] - 2s 10ms/step - loss: 0.0742 - val_loss: 0.0576 - lr: 1.0026e-05\n",
            "Epoch 35/40\n",
            "184/184 [==============================] - 2s 10ms/step - loss: 0.0742 - val_loss: 0.0571 - lr: 9.0718e-06\n",
            "Epoch 36/40\n",
            "184/184 [==============================] - 2s 10ms/step - loss: 0.0734 - val_loss: 0.0568 - lr: 8.2085e-06\n",
            "Epoch 37/40\n",
            "184/184 [==============================] - 2s 10ms/step - loss: 0.0730 - val_loss: 0.0566 - lr: 7.4274e-06\n",
            "Epoch 38/40\n",
            "184/184 [==============================] - 2s 10ms/step - loss: 0.0724 - val_loss: 0.0562 - lr: 6.7206e-06\n",
            "Epoch 39/40\n",
            "184/184 [==============================] - 2s 10ms/step - loss: 0.0726 - val_loss: 0.0561 - lr: 6.0810e-06\n",
            "Epoch 40/40\n",
            "184/184 [==============================] - 2s 10ms/step - loss: 0.0717 - val_loss: 0.0561 - lr: 5.5023e-06\n"
          ],
          "name": "stdout"
        }
      ]
    },
    {
      "cell_type": "code",
      "metadata": {
        "id": "0pjKz-ir-1iv",
        "colab_type": "code",
        "colab": {
          "base_uri": "https://localhost:8080/",
          "height": 269
        },
        "outputId": "953fb467-0e49-42c2-abf1-570a1b590e9b"
      },
      "source": [
        "# loss vs epoch graph \n",
        "plt.plot(history.history['loss'], label='train')\n",
        "plt.plot(history.history['val_loss'], label='val')\n",
        "plt.legend();"
      ],
      "execution_count": 91,
      "outputs": [
        {
          "output_type": "display_data",
          "data": {
            "image/png": "[encoded data removed]",
            "text/plain": [
              "<Figure size 432x288 with 1 Axes>"
            ]
          },
          "metadata": {
            "tags": [],
            "needs_background": "light"
          }
        }
      ]
    },
    {
      "cell_type": "code",
      "metadata": {
        "id": "u0aoOA6BBPH9",
        "colab_type": "code",
        "colab": {}
      },
      "source": [
        "#calculating mae_loss on training data\n",
        "X_train_pred = model.predict(X_train)\n",
        "train_mae_loss = np.mean(np.abs(X_train_pred - X_train), axis=1)"
      ],
      "execution_count": 0,
      "outputs": []
    },
    {
      "cell_type": "code",
      "metadata": {
        "id": "xkmW0sh-HlcL",
        "colab_type": "code",
        "colab": {
          "base_uri": "https://localhost:8080/",
          "height": 35
        },
        "outputId": "91dbcdbb-135a-405e-ca1f-d0ab58b4483d"
      },
      "source": [
        "#calculating mae_loss on testing data\n",
        "X_test_pred = model.predict(X_test)\n",
        "test_mae_loss = np.mean(np.abs(X_test_pred - X_test), axis=1)\n",
        "test_mae_loss.max(),test_mae_loss.mean()"
      ],
      "execution_count": 96,
      "outputs": [
        {
          "output_type": "execute_result",
          "data": {
            "text/plain": [
              "(1.9663771458175243, 0.6355369017632351)"
            ]
          },
          "metadata": {
            "tags": []
          },
          "execution_count": 96
        }
      ]
    },
    {
      "cell_type": "code",
      "metadata": {
        "id": "PnU9GtOBKOAP",
        "colab_type": "code",
        "colab": {
          "base_uri": "https://localhost:8080/",
          "height": 202
        },
        "outputId": "c320be80-1984-4978-f63e-86f9f1530d3d"
      },
      "source": [
        "THRESHOLD = 1.2\n",
        "test_score_df = pd.DataFrame(index=pd.DataFrame(test)[TIME_STEPS:].index)\n",
        "test_score_df['loss'] = test_mae_loss\n",
        "test_score_df['threshold'] = THRESHOLD\n",
        "test_score_df['anomaly'] = test_score_df.loss > test_score_df.threshold\n",
        "test_score_df['close'] = test[TIME_STEPS:]\n",
        "test_score_df.head()"
      ],
      "execution_count": 99,
      "outputs": [
        {
          "output_type": "execute_result",
          "data": {
            "text/html": [
              "<div>\n",
              "<style scoped>\n",
              "    .dataframe tbody tr th:only-of-type {\n",
              "        vertical-align: middle;\n",
              "    }\n",
              "\n",
              "    .dataframe tbody tr th {\n",
              "        vertical-align: top;\n",
              "    }\n",
              "\n",
              "    .dataframe thead th {\n",
              "        text-align: right;\n",
              "    }\n",
              "</style>\n",
              "<table border=\"1\" class=\"dataframe\">\n",
              "  <thead>\n",
              "    <tr style=\"text-align: right;\">\n",
              "      <th></th>\n",
              "      <th>loss</th>\n",
              "      <th>threshold</th>\n",
              "      <th>anomaly</th>\n",
              "      <th>close</th>\n",
              "    </tr>\n",
              "  </thead>\n",
              "  <tbody>\n",
              "    <tr>\n",
              "      <th>30</th>\n",
              "      <td>0.097354</td>\n",
              "      <td>1.2</td>\n",
              "      <td>False</td>\n",
              "      <td>1.216856</td>\n",
              "    </tr>\n",
              "    <tr>\n",
              "      <th>31</th>\n",
              "      <td>0.099904</td>\n",
              "      <td>1.2</td>\n",
              "      <td>False</td>\n",
              "      <td>1.221625</td>\n",
              "    </tr>\n",
              "    <tr>\n",
              "      <th>32</th>\n",
              "      <td>0.098583</td>\n",
              "      <td>1.2</td>\n",
              "      <td>False</td>\n",
              "      <td>1.199313</td>\n",
              "    </tr>\n",
              "    <tr>\n",
              "      <th>33</th>\n",
              "      <td>0.098145</td>\n",
              "      <td>1.2</td>\n",
              "      <td>False</td>\n",
              "      <td>1.221194</td>\n",
              "    </tr>\n",
              "    <tr>\n",
              "      <th>34</th>\n",
              "      <td>0.095802</td>\n",
              "      <td>1.2</td>\n",
              "      <td>False</td>\n",
              "      <td>1.218150</td>\n",
              "    </tr>\n",
              "  </tbody>\n",
              "</table>\n",
              "</div>"
            ],
            "text/plain": [
              "        loss  threshold  anomaly     close\n",
              "30  0.097354        1.2    False  1.216856\n",
              "31  0.099904        1.2    False  1.221625\n",
              "32  0.098583        1.2    False  1.199313\n",
              "33  0.098145        1.2    False  1.221194\n",
              "34  0.095802        1.2    False  1.218150"
            ]
          },
          "metadata": {
            "tags": []
          },
          "execution_count": 99
        }
      ]
    },
    {
      "cell_type": "code",
      "metadata": {
        "id": "0NWDEUjALxga",
        "colab_type": "code",
        "colab": {}
      },
      "source": [
        "# error > threshold is anomaly "
      ],
      "execution_count": 0,
      "outputs": []
    },
    {
      "cell_type": "code",
      "metadata": {
        "id": "vDjY5nS6S7or",
        "colab_type": "code",
        "colab": {}
      },
      "source": [
        ""
      ],
      "execution_count": 0,
      "outputs": []
    }
  ]
}